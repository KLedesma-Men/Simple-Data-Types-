{
 "cells": [
  {
   "cell_type": "code",
   "execution_count": 36,
   "id": "b72a4c60-ce5b-4f62-9e52-8400a7e0c0db",
   "metadata": {},
   "outputs": [
    {
     "name": "stdout",
     "output_type": "stream",
     "text": [
      "True\n",
      "True\n",
      "False\n",
      "2\n"
     ]
    }
   ],
   "source": [
    "#Booleans question 1 \n",
    "a = true \n",
    "b = true \n",
    "c = false\n",
    "print(bool(a)) #true =1\n",
    "print(bool(b)) #true =1\n",
    "print(bool(c)) #false =0\n",
    "result = (a + b - c)\n",
    "print(result)\n"
   ]
  },
  {
   "cell_type": "code",
   "execution_count": 16,
   "id": "34302291-9daa-49a2-a3e3-2a10642b30fe",
   "metadata": {},
   "outputs": [
    {
     "name": "stdout",
     "output_type": "stream",
     "text": [
      "Susan's Body Mass Index (BMI) is: 24.03\n"
     ]
    }
   ],
   "source": [
    "#define weight \n",
    "weight = 60  #replace with patient's actual weight in kg\n",
    "#define height \n",
    "height = 1.58 #replace with patient's height in meters\n",
    "#calculate body mass index\n",
    "BMI = weight / (height **2)  \n",
    "#print BMI as float\n",
    "print(f\"Susan's Body Mass Index (BMI) is: {bmi:.2f}\") \n"
   ]
  },
  {
   "cell_type": "code",
   "execution_count": 47,
   "id": "8df492fc-549b-4845-9986-c85749455fdf",
   "metadata": {},
   "outputs": [
    {
     "name": "stdout",
     "output_type": "stream",
     "text": [
      "1\n"
     ]
    }
   ],
   "source": [
    "#logical tracker question 2 \n",
    "logical_tracker = True\n",
    "logical_tracker = logical_tracker & logical_tracker \n",
    "logical_tracker = logical_tracker| (logical_tracker - logical_tracker) \n",
    "result = (logical_tracker)\n",
    "print(result)\n"
   ]
  },
  {
   "cell_type": "code",
   "execution_count": 52,
   "id": "48aaf420-7f46-4291-84e5-0a4afebe119c",
   "metadata": {},
   "outputs": [
    {
     "name": "stdout",
     "output_type": "stream",
     "text": [
      "C\n"
     ]
    }
   ],
   "source": [
    "#string question 5 \n",
    "string = \"E.Coli\"\n",
    "print(string[2])"
   ]
  },
  {
   "cell_type": "code",
   "execution_count": 54,
   "id": "cf77d0bf-f399-4ba9-842d-2296ba18f6b9",
   "metadata": {},
   "outputs": [
    {
     "ename": "TypeError",
     "evalue": "'str' object does not support item assignment",
     "output_type": "error",
     "traceback": [
      "\u001b[0;31m---------------------------------------------------------------------------\u001b[0m",
      "\u001b[0;31mTypeError\u001b[0m                                 Traceback (most recent call last)",
      "Cell \u001b[0;32mIn[54], line 2\u001b[0m\n\u001b[1;32m      1\u001b[0m string \u001b[38;5;241m=\u001b[39m \u001b[38;5;124m\"\u001b[39m\u001b[38;5;124mI Bove python\u001b[39m\u001b[38;5;124m\"\u001b[39m\n\u001b[0;32m----> 2\u001b[0m \u001b[43mstring\u001b[49m\u001b[43m[\u001b[49m\u001b[38;5;241;43m2\u001b[39;49m\u001b[43m]\u001b[49m \u001b[38;5;241m=\u001b[39m \u001b[38;5;124m\"\u001b[39m\u001b[38;5;124mL\u001b[39m\u001b[38;5;124m\"\u001b[39m\n\u001b[1;32m      3\u001b[0m \u001b[38;5;28mprint\u001b[39m(string[\u001b[38;5;241m2\u001b[39m])\n",
      "\u001b[0;31mTypeError\u001b[0m: 'str' object does not support item assignment"
     ]
    }
   ],
   "source": [
    "#String question 6 \n",
    "string = \"I Bove python\"\n",
    "string[2] = \"L\"\n",
    "print(string[2])"
   ]
  },
  {
   "cell_type": "code",
   "execution_count": 45,
   "id": "93f80286-e5d4-474a-8eb2-ece84d200bf2",
   "metadata": {},
   "outputs": [
    {
     "name": "stdout",
     "output_type": "stream",
     "text": [
      "5\n"
     ]
    }
   ],
   "source": [
    "#Jack has been prescribed 5 medications\n",
    "Medication = 5\n",
    "print(Medication)"
   ]
  },
  {
   "cell_type": "code",
   "execution_count": 34,
   "id": "a04bcacb-cfda-4cac-b86e-941794260378",
   "metadata": {},
   "outputs": [
    {
     "name": "stdout",
     "output_type": "stream",
     "text": [
      "Susan's Body Mass Index (BMI) is: 24.03\n"
     ]
    }
   ],
   "source": [
    "#define weight \n",
    "weight = 60  #replace with patient's actual weight in kg\n",
    "#define height \n",
    "height = 1.58 #replace with patient's height in meters\n",
    "#calculate body mass index\n",
    "BMI = weight / (height **2)  \n",
    "#print BMI as float\n",
    "print(f\"Susan's Body Mass Index (BMI) is: {bmi:.2f}\") \n"
   ]
  },
  {
   "cell_type": "code",
   "execution_count": 18,
   "id": "3128f039-41fc-422d-8afc-d6523564e2f7",
   "metadata": {},
   "outputs": [
    {
     "name": "stdout",
     "output_type": "stream",
     "text": [
      "Hi Karlyn\n"
     ]
    }
   ],
   "source": [
    "#question 9\n",
    "name = (\"Hi\" + \" Karlyn\")\n",
    "print(name) "
   ]
  },
  {
   "cell_type": "code",
   "execution_count": 55,
   "id": "749bd7b4-3e87-48bf-8f82-ae54122f9427",
   "metadata": {},
   "outputs": [
    {
     "name": "stdout",
     "output_type": "stream",
     "text": [
      "13\n"
     ]
    }
   ],
   "source": [
    "#question 9\n",
    "a = 5\n",
    "b = 8\n",
    "result = (a + b)\n",
    "print(result) \n"
   ]
  },
  {
   "cell_type": "code",
   "execution_count": 56,
   "id": "0c7f896e-96c6-4abb-9321-5eb150326a2f",
   "metadata": {},
   "outputs": [
    {
     "name": "stdout",
     "output_type": "stream",
     "text": [
      "73\n"
     ]
    }
   ],
   "source": [
    "#question 10 \n",
    "name = (\"7\" + \"3\")\n",
    "print(name)"
   ]
  }
 ],
 "metadata": {
  "kernelspec": {
   "display_name": "Python 3 (ipykernel)",
   "language": "python",
   "name": "python3"
  },
  "language_info": {
   "codemirror_mode": {
    "name": "ipython",
    "version": 3
   },
   "file_extension": ".py",
   "mimetype": "text/x-python",
   "name": "python",
   "nbconvert_exporter": "python",
   "pygments_lexer": "ipython3",
   "version": "3.12.5"
  }
 },
 "nbformat": 4,
 "nbformat_minor": 5
}
